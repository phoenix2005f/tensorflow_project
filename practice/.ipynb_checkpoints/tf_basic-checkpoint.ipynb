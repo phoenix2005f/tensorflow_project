{
 "cells": [
  {
   "cell_type": "code",
   "execution_count": 8,
   "metadata": {},
   "outputs": [],
   "source": [
    "from sklearn.model_selection import train_test_split\n",
    "from sklearn.utils import shuffle\n",
    "import numpy as np\n",
    "import os\n",
    "\n",
    "from tqdm import tqdm\n",
    "import matplotlib.pyplot as plt\n",
    "import tensorflow as tf"
   ]
  },
  {
   "cell_type": "code",
   "execution_count": 9,
   "metadata": {
    "collapsed": true
   },
   "outputs": [],
   "source": [
    "batch_size = 32\n",
    "epochs = 20\n",
    "lr = 0.001\n",
    "train_ratio = 0.9"
   ]
  },
  {
   "cell_type": "code",
   "execution_count": 10,
   "metadata": {
    "collapsed": true
   },
   "outputs": [],
   "source": [
    "from sklearn.datasets import load_digits\n",
    "\n",
    "digits = load_digits()\n",
    "\n",
    "x_ , y_ = digits.data , digits.target\n",
    "\n",
    "\n",
    "x_ = x_ / x_.max()\n",
    "## one hot\n",
    "y_ = np.eye(10)[y_]\n"
   ]
  },
  {
   "cell_type": "code",
   "execution_count": 11,
   "metadata": {
    "collapsed": true
   },
   "outputs": [],
   "source": [
    "# 照y_分類比例去切資料集\n",
    "X_train , X_test , y_train , y_test = train_test_split(x_ , y_ , test_size=0.05 , stratify = y_)\n",
    "\n",
    "# 切驗證集\n",
    "X_train , X_valid , y_train , y_valid = train_test_split(X_train , y_train , test_size=1-train_ratio , stratify = y_train.argmax(axis=1))  \n"
   ]
  },
  {
   "cell_type": "code",
   "execution_count": 33,
   "metadata": {},
   "outputs": [],
   "source": [
    "img_shape = X_train.shape"
   ]
  },
  {
   "cell_type": "markdown",
   "metadata": {},
   "source": [
    "# 自定義variables and bias, (25,25,25)"
   ]
  },
  {
   "cell_type": "code",
   "execution_count": 29,
   "metadata": {
    "collapsed": true
   },
   "outputs": [],
   "source": [
    "def init_weights(shape):\n",
    "    ## 這邊要用Variable,系統會偵測命名衝突,get_variable會出錯\n",
    "    return tf.Variable(tf.random_normal(shape=shape,stddev=0.02))\n",
    "def init_bias(shape):\n",
    "    return tf.Variable(tf.zeros(shape=shape))"
   ]
  },
  {
   "cell_type": "code",
   "execution_count": 97,
   "metadata": {
    "collapsed": true
   },
   "outputs": [],
   "source": [
    "class net1:\n",
    "    def __init__(self  , img_shape):\n",
    "        \n",
    "      \n",
    "        self.hidden_num = [25,25,25,10]\n",
    "        \n",
    "        with tf.variable_scope('hidden_layer'):\n",
    "            self.w1 = init_weights([img_shape[1],self.hidden_num[0]])\n",
    "            self.b1 = init_bias([self.hidden_num[0]])\n",
    "            \n",
    "            self.w2 = init_weights([self.hidden_num[0],self.hidden_num[1]])\n",
    "            self.b2 = init_bias([self.hidden_num[1]])\n",
    "            \n",
    "            self.w3 = init_weights([self.hidden_num[1],self.hidden_num[2]])\n",
    "            self.b3 = init_bias([self.hidden_num[2]])\n",
    "            \n",
    "            self.w4 = init_weights([self.hidden_num[2],self.hidden_num[3] ])\n",
    "            self.b4 = init_bias([self.hidden_num[3]])\n",
    "        \n",
    "    def forward(self,X):\n",
    "        z = tf.nn.relu( tf.add(tf.matmul(X,self.w1) , self.b1))\n",
    "        z = tf.nn.relu( tf.add(tf.matmul(z,self.w2) , self.b2))\n",
    "        z = tf.nn.relu( tf.add(tf.matmul(z,self.w3) , self.b3))\n",
    "        z = tf.nn.relu( tf.add(tf.matmul(z,self.w4) , self.b4))\n",
    "        return z\n",
    "        "
   ]
  },
  {
   "cell_type": "code",
   "execution_count": 98,
   "metadata": {},
   "outputs": [],
   "source": [
    "class model:\n",
    "    def __init__(self,x_train,y_train,x_valid,y_valid,batch_size=32,epochs=20,lr=0.001):\n",
    "        self.epochs = epochs\n",
    "        self.x_train = x_train\n",
    "        self.y_train = y_train\n",
    "        self.x_valid = x_valid\n",
    "        self.y_valid = y_valid\n",
    "        \n",
    "        self.x_shape = x_train.shape\n",
    "        self.y_shape = y_train.shape\n",
    "        self.batch_size = batch_size\n",
    "        self.net_model = net1(img_shape)\n",
    "        \n",
    "        #定義graph\n",
    "        self.X = tf.placeholder(dtype=tf.float32,shape=[None,self.x_shape[1]])\n",
    "        self.y = tf.placeholder(dtype=tf.float32,shape=[None,self.y_shape[1]])\n",
    "        \n",
    "        self.out = self.net_model.forward(self.X)\n",
    "        \n",
    "        self.loss = tf.reduce_mean(tf.nn.softmax_cross_entropy_with_logits(logits=self.out,labels=self.y))\n",
    "        \n",
    "        train_vars = tf.trainable_variables()\n",
    "        net_vars = [ var for var in train_vars if 'hidden_layer' in var.name]\n",
    "        \n",
    "        self.step = tf.train.AdamOptimizer(learning_rate=lr).minimize(self.loss)\n",
    "        \n",
    "        \n",
    "    def train(self):\n",
    "        \n",
    "        init = tf.global_variables_initializer()\n",
    "        self.train_losses=[]\n",
    "        self.valid_losses=[]\n",
    "        self.sess = tf.Session()\n",
    "        self.sess.run(init)\n",
    "        \n",
    "        for i in range(self.epochs):\n",
    "            \n",
    "            total_batch = int(np.floor(self.x_shape[0]/self.batch_size))\n",
    "            train_losses=[]\n",
    "            for j in range(total_batch):\n",
    "                batch_idx_start = j*self.batch_size\n",
    "                batch_idx_end = (j+1)*self.batch_size\n",
    "                \n",
    "                x_batch = self.x_train[batch_idx_start:batch_idx_end]\n",
    "                y_batch = self.y_train[batch_idx_start:batch_idx_end]\n",
    "                train_loss_ , _ = self.sess.run([self.loss,self.step],feed_dict={self.X:x_batch , self.y:y_batch})\n",
    "                train_losses.append(train_loss_)\n",
    "                \n",
    "                \n",
    "                \n",
    "                \n",
    "            valid_loss_ = self.sess.run(self.loss,feed_dict={self.X:self.x_valid,self.y:self.y_valid})\n",
    "                \n",
    "            print(\"{}/{}: train loss: {:.4f} ,  valid loss: {:.4f}\".format(i+1,self.epochs,sum(train_losses)/batch_size , valid_loss_))  \n",
    "            self.train_losses.append(sum(train_losses)/batch_size)\n",
    "            self.valid_losses.append(valid_loss_)\n",
    "                "
   ]
  },
  {
   "cell_type": "code",
   "execution_count": 99,
   "metadata": {},
   "outputs": [
    {
     "name": "stdout",
     "output_type": "stream",
     "text": [
      "1/100: train loss: 3.4521 ,  valid loss: 2.2964\n",
      "2/100: train loss: 3.3818 ,  valid loss: 2.1550\n",
      "3/100: train loss: 3.0807 ,  valid loss: 1.9943\n",
      "4/100: train loss: 2.9441 ,  valid loss: 1.9397\n",
      "5/100: train loss: 2.8811 ,  valid loss: 1.9011\n",
      "6/100: train loss: 2.8292 ,  valid loss: 1.8717\n",
      "7/100: train loss: 2.7855 ,  valid loss: 1.8515\n",
      "8/100: train loss: 2.7457 ,  valid loss: 1.8305\n",
      "9/100: train loss: 2.7078 ,  valid loss: 1.8087\n",
      "10/100: train loss: 2.6733 ,  valid loss: 1.7861\n",
      "11/100: train loss: 2.6409 ,  valid loss: 1.7670\n",
      "12/100: train loss: 2.6093 ,  valid loss: 1.7473\n",
      "13/100: train loss: 2.5766 ,  valid loss: 1.7281\n",
      "14/100: train loss: 2.5477 ,  valid loss: 1.7110\n",
      "15/100: train loss: 2.5235 ,  valid loss: 1.6978\n",
      "16/100: train loss: 2.5009 ,  valid loss: 1.6867\n",
      "17/100: train loss: 2.4803 ,  valid loss: 1.6749\n",
      "18/100: train loss: 2.4631 ,  valid loss: 1.6658\n",
      "19/100: train loss: 2.4485 ,  valid loss: 1.6577\n",
      "20/100: train loss: 2.4309 ,  valid loss: 1.6509\n",
      "21/100: train loss: 2.4169 ,  valid loss: 1.6436\n",
      "22/100: train loss: 2.4057 ,  valid loss: 1.6364\n",
      "23/100: train loss: 2.3924 ,  valid loss: 1.6308\n",
      "24/100: train loss: 2.3783 ,  valid loss: 1.6269\n",
      "25/100: train loss: 2.3649 ,  valid loss: 1.6211\n",
      "26/100: train loss: 2.3547 ,  valid loss: 1.6155\n",
      "27/100: train loss: 2.3449 ,  valid loss: 1.6104\n",
      "28/100: train loss: 2.3360 ,  valid loss: 1.6053\n",
      "29/100: train loss: 2.3278 ,  valid loss: 1.6007\n",
      "30/100: train loss: 2.3210 ,  valid loss: 1.5974\n",
      "31/100: train loss: 2.3134 ,  valid loss: 1.5932\n",
      "32/100: train loss: 2.3066 ,  valid loss: 1.5890\n",
      "33/100: train loss: 2.3002 ,  valid loss: 1.5874\n",
      "34/100: train loss: 2.2935 ,  valid loss: 1.5824\n",
      "35/100: train loss: 2.2867 ,  valid loss: 1.5777\n",
      "36/100: train loss: 2.2761 ,  valid loss: 1.5794\n",
      "37/100: train loss: 2.2686 ,  valid loss: 1.5783\n",
      "38/100: train loss: 2.2606 ,  valid loss: 1.5724\n",
      "39/100: train loss: 2.2500 ,  valid loss: 1.5693\n",
      "40/100: train loss: 2.2388 ,  valid loss: 1.5628\n",
      "41/100: train loss: 2.2230 ,  valid loss: 1.5544\n",
      "42/100: train loss: 2.2085 ,  valid loss: 1.5509\n",
      "43/100: train loss: 2.1956 ,  valid loss: 1.5458\n",
      "44/100: train loss: 2.1837 ,  valid loss: 1.5375\n",
      "45/100: train loss: 2.1726 ,  valid loss: 1.5341\n",
      "46/100: train loss: 2.1630 ,  valid loss: 1.5278\n",
      "47/100: train loss: 2.1548 ,  valid loss: 1.5214\n",
      "48/100: train loss: 2.1469 ,  valid loss: 1.5171\n",
      "49/100: train loss: 2.1385 ,  valid loss: 1.5102\n",
      "50/100: train loss: 2.1312 ,  valid loss: 1.5042\n",
      "51/100: train loss: 2.1246 ,  valid loss: 1.4993\n",
      "52/100: train loss: 2.1178 ,  valid loss: 1.4908\n",
      "53/100: train loss: 2.1140 ,  valid loss: 1.4934\n",
      "54/100: train loss: 2.1066 ,  valid loss: 1.4889\n",
      "55/100: train loss: 2.1008 ,  valid loss: 1.4822\n",
      "56/100: train loss: 2.0959 ,  valid loss: 1.4802\n",
      "57/100: train loss: 2.0907 ,  valid loss: 1.4779\n",
      "58/100: train loss: 2.0859 ,  valid loss: 1.4780\n",
      "59/100: train loss: 2.0810 ,  valid loss: 1.4737\n",
      "60/100: train loss: 2.0768 ,  valid loss: 1.4685\n",
      "61/100: train loss: 2.0731 ,  valid loss: 1.4732\n",
      "62/100: train loss: 2.0671 ,  valid loss: 1.4708\n",
      "63/100: train loss: 2.0632 ,  valid loss: 1.4750\n",
      "64/100: train loss: 2.0594 ,  valid loss: 1.4721\n",
      "65/100: train loss: 2.0548 ,  valid loss: 1.4590\n",
      "66/100: train loss: 2.0506 ,  valid loss: 1.4589\n",
      "67/100: train loss: 2.0459 ,  valid loss: 1.4578\n",
      "68/100: train loss: 2.0420 ,  valid loss: 1.4562\n",
      "69/100: train loss: 2.0397 ,  valid loss: 1.4579\n",
      "70/100: train loss: 2.0356 ,  valid loss: 1.4552\n",
      "71/100: train loss: 2.0322 ,  valid loss: 1.4529\n",
      "72/100: train loss: 2.0306 ,  valid loss: 1.4560\n",
      "73/100: train loss: 2.0274 ,  valid loss: 1.4531\n",
      "74/100: train loss: 2.0252 ,  valid loss: 1.4540\n",
      "75/100: train loss: 2.0223 ,  valid loss: 1.4546\n",
      "76/100: train loss: 2.0202 ,  valid loss: 1.4516\n",
      "77/100: train loss: 2.0177 ,  valid loss: 1.4504\n",
      "78/100: train loss: 2.0149 ,  valid loss: 1.4514\n",
      "79/100: train loss: 2.0132 ,  valid loss: 1.4499\n",
      "80/100: train loss: 2.0119 ,  valid loss: 1.4508\n",
      "81/100: train loss: 2.0093 ,  valid loss: 1.4491\n",
      "82/100: train loss: 2.0076 ,  valid loss: 1.4481\n",
      "83/100: train loss: 2.0063 ,  valid loss: 1.4459\n",
      "84/100: train loss: 2.0029 ,  valid loss: 1.4392\n",
      "85/100: train loss: 2.0001 ,  valid loss: 1.4366\n",
      "86/100: train loss: 1.9976 ,  valid loss: 1.4315\n",
      "87/100: train loss: 1.9945 ,  valid loss: 1.4311\n",
      "88/100: train loss: 1.9900 ,  valid loss: 1.4292\n",
      "89/100: train loss: 1.9875 ,  valid loss: 1.4234\n",
      "90/100: train loss: 1.9851 ,  valid loss: 1.4257\n",
      "91/100: train loss: 1.9824 ,  valid loss: 1.4206\n",
      "92/100: train loss: 1.9794 ,  valid loss: 1.4194\n",
      "93/100: train loss: 1.9770 ,  valid loss: 1.4169\n",
      "94/100: train loss: 1.9747 ,  valid loss: 1.4210\n",
      "95/100: train loss: 1.9723 ,  valid loss: 1.4178\n",
      "96/100: train loss: 1.9710 ,  valid loss: 1.4139\n",
      "97/100: train loss: 1.9692 ,  valid loss: 1.4154\n",
      "98/100: train loss: 1.9665 ,  valid loss: 1.4116\n",
      "99/100: train loss: 1.9642 ,  valid loss: 1.4123\n",
      "100/100: train loss: 1.9613 ,  valid loss: 1.4151\n"
     ]
    }
   ],
   "source": [
    "model1 = model(X_train,y_train,X_valid,y_valid,epochs=100)\n",
    "model1.train()"
   ]
  },
  {
   "cell_type": "code",
   "execution_count": 100,
   "metadata": {},
   "outputs": [
    {
     "data": {
      "image/png": "[encoded data removed]",
      "text/plain": [
       "<matplotlib.figure.Figure at 0x133600908>"
      ]
     },
     "metadata": {},
     "output_type": "display_data"
    }
   ],
   "source": [
    "plt.plot(np.arange(len(model1.train_losses)), model1.train_losses, 'b', label = 'train')\n",
    "plt.plot(np.arange(len(model1.valid_losses)), model1.valid_losses, 'r', label = 'valid')\n",
    "plt.legend()\n",
    "plt.show()"
   ]
  },
  {
   "cell_type": "code",
   "execution_count": null,
   "metadata": {
    "collapsed": true
   },
   "outputs": [],
   "source": []
  }
 ],
 "metadata": {
  "kernelspec": {
   "display_name": "Python 3",
   "language": "python",
   "name": "python3"
  },
  "language_info": {
   "codemirror_mode": {
    "name": "ipython",
    "version": 3
   },
   "file_extension": ".py",
   "mimetype": "text/x-python",
   "name": "python",
   "nbconvert_exporter": "python",
   "pygments_lexer": "ipython3",
   "version": "3.6.1"
  }
 },
 "nbformat": 4,
 "nbformat_minor": 2
}
