{
 "cells": [
  {
   "cell_type": "code",
   "execution_count": 2,
   "metadata": {},
   "outputs": [
    {
     "name": "stderr",
     "output_type": "stream",
     "text": [
      "/Users/phx/anaconda/lib/python3.6/site-packages/h5py/__init__.py:34: FutureWarning: Conversion of the second argument of issubdtype from `float` to `np.floating` is deprecated. In future, it will be treated as `np.float64 == np.dtype(float).type`.\n",
      "  from ._conv import register_converters as _register_converters\n"
     ]
    }
   ],
   "source": [
    "from sklearn.model_selection import train_test_split\n",
    "from sklearn.utils import shuffle\n",
    "import numpy as np\n",
    "import os\n",
    "\n",
    "from tqdm import tqdm\n",
    "import matplotlib.pyplot as plt\n",
    "import tensorflow as tf"
   ]
  },
  {
   "cell_type": "code",
   "execution_count": 13,
   "metadata": {
    "collapsed": true
   },
   "outputs": [],
   "source": [
    "batch_size = 32\n",
    "epochs = 20\n",
    "lr = 0.001\n",
    "train_ratio = 0.9"
   ]
  },
  {
   "cell_type": "code",
   "execution_count": 12,
   "metadata": {
    "collapsed": true
   },
   "outputs": [],
   "source": [
    "from sklearn.datasets import load_digits\n",
    "\n",
    "digits = load_digits()\n",
    "\n",
    "x_ , y_ = digits.data , digits.target\n",
    "\n",
    "\n",
    "x_ = x_ / x_.max()\n",
    "## one hot\n",
    "y_ = np.eye(10)[y_]\n"
   ]
  },
  {
   "cell_type": "code",
   "execution_count": 17,
   "metadata": {
    "collapsed": true
   },
   "outputs": [],
   "source": [
    "# 照y_分類比例去切資料集\n",
    "X_train , X_test , y_train , y_test = train_test_split(x_ , y_ , test_size=0.05 , stratify = y_)\n",
    "\n",
    "# 切驗證集\n",
    "X_train , X_valid , y_train , y_valid = train_test_split(X_train , y_train , test_size=1-train_ratio , stratify = y_train.argmax(axis=1))  \n"
   ]
  },
  {
   "cell_type": "code",
   "execution_count": 18,
   "metadata": {},
   "outputs": [
    {
     "data": {
      "text/plain": [
       "(1536, 64)"
      ]
     },
     "execution_count": 18,
     "metadata": {},
     "output_type": "execute_result"
    }
   ],
   "source": [
    "X_train.shape"
   ]
  },
  {
   "cell_type": "markdown",
   "metadata": {},
   "source": [
    "# 自定義variables and bias, (25,25,25)"
   ]
  },
  {
   "cell_type": "code",
   "execution_count": 19,
   "metadata": {
    "collapsed": true
   },
   "outputs": [],
   "source": [
    "def init_weights(shape):\n",
    "    return tf.get_variable(tf.random_normal(shape=shape,stddev=0.02))\n",
    "def init_bias(shape):\n",
    "    return tf.get_variable(tf.zeros(shape=shape))"
   ]
  },
  {
   "cell_type": "code",
   "execution_count": 20,
   "metadata": {
    "collapsed": true
   },
   "outputs": [],
   "source": [
    "class net1:\n",
    "    def __init__(self , x_train , y_train):\n",
    "        \n",
    "        self.x_train = x_train\n",
    "        self.y_train = y_train\n",
    "        self.hidden_num = [25,y_train.shape[1]]\n",
    "        \n",
    "        \n",
    "        with tf.variable_scope('hidden_layer'):\n",
    "            self.w1 = init_weights([x_train.shape[1],self.hidden_num[0]])\n",
    "            self.b1 = init_bias([self.hidden_num[0]])\n",
    "            self.w2 = init_weights([self.hidden_num[0],self.hidden_num[1] ])\n",
    "            self.b2 = init_bias([self.hidden_num[1]])\n",
    "        \n",
    "    def forward(self,X):\n",
    "        z = tf.nn.relu( tf.add(tf.matmul(X,self.w1) , self.b1))\n",
    "        z = tf.nn.relu( tf.add(tf.matmul(z,self.w2) , self.b2))\n",
    "        return z\n",
    "        "
   ]
  },
  {
   "cell_type": "code",
   "execution_count": null,
   "metadata": {
    "collapsed": true
   },
   "outputs": [],
   "source": [
    "# def train():\n",
    "#     init = tf.global_variables_initializer()\n",
    "#     sess = tf.Session()\n",
    "#     sess.run(init)\n",
    "    \n",
    "    "
   ]
  },
  {
   "cell_type": "code",
   "execution_count": null,
   "metadata": {
    "collapsed": true
   },
   "outputs": [],
   "source": []
  }
 ],
 "metadata": {
  "kernelspec": {
   "display_name": "Python 3",
   "language": "python",
   "name": "python3"
  },
  "language_info": {
   "codemirror_mode": {
    "name": "ipython",
    "version": 3
   },
   "file_extension": ".py",
   "mimetype": "text/x-python",
   "name": "python",
   "nbconvert_exporter": "python",
   "pygments_lexer": "ipython3",
   "version": "3.6.1"
  }
 },
 "nbformat": 4,
 "nbformat_minor": 2
}
