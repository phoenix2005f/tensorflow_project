{
 "cells": [
  {
   "cell_type": "code",
   "execution_count": 1,
   "metadata": {},
   "outputs": [
    {
     "name": "stderr",
     "output_type": "stream",
     "text": [
      "/Users/phx/anaconda/lib/python3.6/site-packages/h5py/__init__.py:34: FutureWarning: Conversion of the second argument of issubdtype from `float` to `np.floating` is deprecated. In future, it will be treated as `np.float64 == np.dtype(float).type`.\n",
      "  from ._conv import register_converters as _register_converters\n"
     ]
    }
   ],
   "source": [
    "from sklearn.model_selection import train_test_split\n",
    "from sklearn.utils import shuffle\n",
    "import numpy as np\n",
    "import os\n",
    "\n",
    "from tqdm import tqdm\n",
    "import matplotlib.pyplot as plt\n",
    "import tensorflow as tf"
   ]
  },
  {
   "cell_type": "code",
   "execution_count": 2,
   "metadata": {
    "collapsed": true
   },
   "outputs": [],
   "source": [
    "batch_size = 32\n",
    "epochs = 20\n",
    "lr = 0.001\n",
    "train_ratio = 0.9"
   ]
  },
  {
   "cell_type": "code",
   "execution_count": 3,
   "metadata": {
    "collapsed": true
   },
   "outputs": [],
   "source": [
    "from sklearn.datasets import load_digits\n",
    "\n",
    "digits = load_digits()\n",
    "\n",
    "x_ , y_ = digits.data , digits.target\n",
    "\n",
    "\n",
    "x_ = x_ / x_.max()\n",
    "## one hot\n",
    "y_ = np.eye(10)[y_]\n"
   ]
  },
  {
   "cell_type": "code",
   "execution_count": 4,
   "metadata": {
    "collapsed": true
   },
   "outputs": [],
   "source": [
    "# 照y_分類比例去切資料集\n",
    "X_train , X_test , y_train , y_test = train_test_split(x_ , y_ , test_size=0.05 , stratify = y_)\n",
    "\n",
    "# 切驗證集\n",
    "X_train , X_valid , y_train , y_valid = train_test_split(X_train , y_train , test_size=1-train_ratio , stratify = y_train.argmax(axis=1))  \n"
   ]
  },
  {
   "cell_type": "code",
   "execution_count": 5,
   "metadata": {
    "collapsed": true
   },
   "outputs": [],
   "source": [
    "img_shape = X_train.shape"
   ]
  },
  {
   "cell_type": "markdown",
   "metadata": {},
   "source": [
    "# 自定義variables and bias, (25,25,25)"
   ]
  },
  {
   "cell_type": "code",
   "execution_count": 6,
   "metadata": {
    "collapsed": true
   },
   "outputs": [],
   "source": [
    "def init_weights(shape):\n",
    "    ## 這邊要用Variable,系統會偵測命名衝突,get_variable會出錯\n",
    "    return tf.Variable(tf.random_normal(shape=shape,stddev=0.02))\n",
    "def init_bias(shape):\n",
    "    return tf.Variable(tf.zeros(shape=shape))"
   ]
  },
  {
   "cell_type": "code",
   "execution_count": 7,
   "metadata": {
    "collapsed": true
   },
   "outputs": [],
   "source": [
    "class net1:\n",
    "    def __init__(self  , img_shape):\n",
    "        \n",
    "      \n",
    "        self.hidden_num = [25,25,25,10]\n",
    "        \n",
    "        with tf.variable_scope('hidden_layer'):\n",
    "            self.w1 = init_weights([img_shape[1],self.hidden_num[0]])\n",
    "            self.b1 = init_bias([self.hidden_num[0]])\n",
    "            \n",
    "            self.w2 = init_weights([self.hidden_num[0],self.hidden_num[1]])\n",
    "            self.b2 = init_bias([self.hidden_num[1]])\n",
    "            \n",
    "            self.w3 = init_weights([self.hidden_num[1],self.hidden_num[2]])\n",
    "            self.b3 = init_bias([self.hidden_num[2]])\n",
    "            \n",
    "            self.w4 = init_weights([self.hidden_num[2],self.hidden_num[3] ])\n",
    "            self.b4 = init_bias([self.hidden_num[3]])\n",
    "        \n",
    "    def forward(self,X):\n",
    "        z = tf.nn.relu( tf.add(tf.matmul(X,self.w1) , self.b1))\n",
    "        z = tf.nn.relu( tf.add(tf.matmul(z,self.w2) , self.b2))\n",
    "        z = tf.nn.relu( tf.add(tf.matmul(z,self.w3) , self.b3))\n",
    "        z = tf.nn.relu( tf.add(tf.matmul(z,self.w4) , self.b4))\n",
    "        return z\n",
    "        "
   ]
  },
  {
   "cell_type": "code",
   "execution_count": 8,
   "metadata": {
    "collapsed": true
   },
   "outputs": [],
   "source": [
    "class model:\n",
    "    def __init__(self,x_train,y_train,x_valid,y_valid,batch_size=32,epochs=20,lr=0.001):\n",
    "        self.epochs = epochs\n",
    "        self.x_train = x_train\n",
    "        self.y_train = y_train\n",
    "        self.x_valid = x_valid\n",
    "        self.y_valid = y_valid\n",
    "        \n",
    "        self.x_shape = x_train.shape\n",
    "        self.y_shape = y_train.shape\n",
    "        self.batch_size = batch_size\n",
    "        self.net_model = net1(img_shape)\n",
    "        \n",
    "        #定義graph\n",
    "        self.X = tf.placeholder(dtype=tf.float32,shape=[None,self.x_shape[1]])\n",
    "        self.y = tf.placeholder(dtype=tf.float32,shape=[None,self.y_shape[1]])\n",
    "        \n",
    "        self.out = self.net_model.forward(self.X)\n",
    "        \n",
    "        self.loss = tf.reduce_mean(tf.nn.softmax_cross_entropy_with_logits(logits=self.out,labels=self.y))\n",
    "        \n",
    "        train_vars = tf.trainable_variables()\n",
    "        net_vars = [ var for var in train_vars if 'hidden_layer' in var.name]\n",
    "        \n",
    "        self.step = tf.train.AdamOptimizer(learning_rate=lr).minimize(self.loss,var_list=net_vars)\n",
    "        \n",
    "        \n",
    "    def train(self):\n",
    "        \n",
    "        init = tf.global_variables_initializer()\n",
    "        self.train_losses=[]\n",
    "        self.valid_losses=[]\n",
    "        self.sess = tf.Session()\n",
    "        self.sess.run(init)\n",
    "        \n",
    "        for i in range(self.epochs):\n",
    "            \n",
    "            total_batch = int(np.floor(self.x_shape[0]/self.batch_size))\n",
    "            train_losses=[]\n",
    "            for j in range(total_batch):\n",
    "                batch_idx_start = j*self.batch_size\n",
    "                batch_idx_end = (j+1)*self.batch_size\n",
    "                \n",
    "                x_batch = self.x_train[batch_idx_start:batch_idx_end]\n",
    "                y_batch = self.y_train[batch_idx_start:batch_idx_end]\n",
    "                train_loss_ , _ = self.sess.run([self.loss,self.step],feed_dict={self.X:x_batch , self.y:y_batch})\n",
    "                train_losses.append(train_loss_)\n",
    "                \n",
    "                \n",
    "                \n",
    "                \n",
    "            valid_loss_ = self.sess.run(self.loss,feed_dict={self.X:self.x_valid,self.y:self.y_valid})\n",
    "                \n",
    "            print(\"{}/{}: train loss: {:.4f} ,  valid loss: {:.4f}\".format(i+1,self.epochs,sum(train_losses)/batch_size , valid_loss_))  \n",
    "            self.train_losses.append(sum(train_losses)/batch_size)\n",
    "            self.valid_losses.append(valid_loss_)\n",
    "                "
   ]
  },
  {
   "cell_type": "code",
   "execution_count": 9,
   "metadata": {},
   "outputs": [
    {
     "name": "stdout",
     "output_type": "stream",
     "text": [
      "WARNING:tensorflow:From <ipython-input-8-ea907f12efab>:20: softmax_cross_entropy_with_logits (from tensorflow.python.ops.nn_ops) is deprecated and will be removed in a future version.\n",
      "Instructions for updating:\n",
      "\n",
      "Future major versions of TensorFlow will allow gradients to flow\n",
      "into the labels input on backprop by default.\n",
      "\n",
      "See tf.nn.softmax_cross_entropy_with_logits_v2.\n",
      "\n",
      "1/100: train loss: 3.4527 ,  valid loss: 2.2966\n",
      "2/100: train loss: 3.3635 ,  valid loss: 2.1182\n",
      "3/100: train loss: 3.0881 ,  valid loss: 2.0194\n",
      "4/100: train loss: 3.0057 ,  valid loss: 1.9865\n",
      "5/100: train loss: 2.9658 ,  valid loss: 1.9664\n",
      "6/100: train loss: 2.9240 ,  valid loss: 1.9402\n",
      "7/100: train loss: 2.8562 ,  valid loss: 1.8914\n",
      "8/100: train loss: 2.7594 ,  valid loss: 1.8268\n",
      "9/100: train loss: 2.6561 ,  valid loss: 1.7689\n",
      "10/100: train loss: 2.5807 ,  valid loss: 1.7325\n",
      "11/100: train loss: 2.5385 ,  valid loss: 1.7126\n",
      "12/100: train loss: 2.5135 ,  valid loss: 1.6993\n",
      "13/100: train loss: 2.4970 ,  valid loss: 1.6896\n",
      "14/100: train loss: 2.4861 ,  valid loss: 1.6823\n",
      "15/100: train loss: 2.4783 ,  valid loss: 1.6767\n",
      "16/100: train loss: 2.4724 ,  valid loss: 1.6732\n",
      "17/100: train loss: 2.4677 ,  valid loss: 1.6700\n",
      "18/100: train loss: 2.4639 ,  valid loss: 1.6674\n",
      "19/100: train loss: 2.4608 ,  valid loss: 1.6650\n",
      "20/100: train loss: 2.4584 ,  valid loss: 1.6634\n",
      "21/100: train loss: 2.4563 ,  valid loss: 1.6625\n",
      "22/100: train loss: 2.4545 ,  valid loss: 1.6622\n",
      "23/100: train loss: 2.4530 ,  valid loss: 1.6616\n",
      "24/100: train loss: 2.4518 ,  valid loss: 1.6619\n",
      "25/100: train loss: 2.4506 ,  valid loss: 1.6625\n",
      "26/100: train loss: 2.4498 ,  valid loss: 1.6623\n",
      "27/100: train loss: 2.4491 ,  valid loss: 1.6640\n",
      "28/100: train loss: 2.4482 ,  valid loss: 1.6647\n",
      "29/100: train loss: 2.4476 ,  valid loss: 1.6643\n",
      "30/100: train loss: 2.4471 ,  valid loss: 1.6662\n",
      "31/100: train loss: 2.4466 ,  valid loss: 1.6673\n",
      "32/100: train loss: 2.4462 ,  valid loss: 1.6689\n",
      "33/100: train loss: 2.4460 ,  valid loss: 1.6716\n",
      "34/100: train loss: 2.4458 ,  valid loss: 1.6732\n",
      "35/100: train loss: 2.4455 ,  valid loss: 1.6745\n",
      "36/100: train loss: 2.4452 ,  valid loss: 1.6751\n",
      "37/100: train loss: 2.4451 ,  valid loss: 1.6778\n",
      "38/100: train loss: 2.4447 ,  valid loss: 1.6763\n",
      "39/100: train loss: 2.4443 ,  valid loss: 1.6773\n",
      "40/100: train loss: 2.4443 ,  valid loss: 1.6773\n",
      "41/100: train loss: 2.4439 ,  valid loss: 1.6765\n",
      "42/100: train loss: 2.4437 ,  valid loss: 1.6772\n",
      "43/100: train loss: 2.4435 ,  valid loss: 1.6788\n",
      "44/100: train loss: 2.4433 ,  valid loss: 1.6787\n",
      "45/100: train loss: 2.4431 ,  valid loss: 1.6808\n",
      "46/100: train loss: 2.4431 ,  valid loss: 1.6799\n",
      "47/100: train loss: 2.4430 ,  valid loss: 1.6791\n",
      "48/100: train loss: 2.4429 ,  valid loss: 1.6806\n",
      "49/100: train loss: 2.4428 ,  valid loss: 1.6802\n",
      "50/100: train loss: 2.4428 ,  valid loss: 1.6803\n",
      "51/100: train loss: 2.4448 ,  valid loss: 1.6653\n",
      "52/100: train loss: 2.4411 ,  valid loss: 1.6828\n",
      "53/100: train loss: 2.4406 ,  valid loss: 1.6861\n",
      "54/100: train loss: 2.4406 ,  valid loss: 1.6906\n",
      "55/100: train loss: 2.4405 ,  valid loss: 1.6894\n",
      "56/100: train loss: 2.4404 ,  valid loss: 1.6871\n",
      "57/100: train loss: 2.4403 ,  valid loss: 1.6884\n",
      "58/100: train loss: 2.4403 ,  valid loss: 1.6924\n",
      "59/100: train loss: 2.4402 ,  valid loss: 1.6899\n",
      "60/100: train loss: 2.4404 ,  valid loss: 1.6870\n",
      "61/100: train loss: 2.4401 ,  valid loss: 1.6834\n",
      "62/100: train loss: 2.4402 ,  valid loss: 1.6916\n",
      "63/100: train loss: 2.4402 ,  valid loss: 1.6887\n",
      "64/100: train loss: 2.4402 ,  valid loss: 1.6892\n",
      "65/100: train loss: 2.4401 ,  valid loss: 1.6919\n",
      "66/100: train loss: 2.4401 ,  valid loss: 1.6894\n",
      "67/100: train loss: 2.4401 ,  valid loss: 1.6862\n",
      "68/100: train loss: 2.4401 ,  valid loss: 1.6973\n",
      "69/100: train loss: 2.4400 ,  valid loss: 1.6977\n",
      "70/100: train loss: 2.4400 ,  valid loss: 1.6955\n",
      "71/100: train loss: 2.4400 ,  valid loss: 1.6936\n",
      "72/100: train loss: 2.4400 ,  valid loss: 1.6880\n",
      "73/100: train loss: 2.4400 ,  valid loss: 1.6981\n",
      "74/100: train loss: 2.4401 ,  valid loss: 1.6906\n",
      "75/100: train loss: 2.4400 ,  valid loss: 1.6919\n",
      "76/100: train loss: 2.4400 ,  valid loss: 1.6944\n",
      "77/100: train loss: 2.4399 ,  valid loss: 1.6957\n",
      "78/100: train loss: 2.4401 ,  valid loss: 1.7002\n",
      "79/100: train loss: 2.4400 ,  valid loss: 1.6922\n",
      "80/100: train loss: 2.4399 ,  valid loss: 1.6964\n",
      "81/100: train loss: 2.4400 ,  valid loss: 1.6945\n",
      "82/100: train loss: 2.4400 ,  valid loss: 1.6970\n",
      "83/100: train loss: 2.4399 ,  valid loss: 1.7067\n",
      "84/100: train loss: 2.4399 ,  valid loss: 1.7014\n",
      "85/100: train loss: 2.4399 ,  valid loss: 1.7093\n",
      "86/100: train loss: 2.4400 ,  valid loss: 1.6953\n",
      "87/100: train loss: 2.4399 ,  valid loss: 1.7036\n",
      "88/100: train loss: 2.4399 ,  valid loss: 1.7038\n",
      "89/100: train loss: 2.4399 ,  valid loss: 1.7052\n",
      "90/100: train loss: 2.4399 ,  valid loss: 1.7094\n",
      "91/100: train loss: 2.4399 ,  valid loss: 1.7072\n",
      "92/100: train loss: 2.4400 ,  valid loss: 1.6915\n",
      "93/100: train loss: 2.4399 ,  valid loss: 1.7070\n",
      "94/100: train loss: 2.4399 ,  valid loss: 1.7107\n",
      "95/100: train loss: 2.4399 ,  valid loss: 1.7098\n",
      "96/100: train loss: 2.4399 ,  valid loss: 1.7126\n",
      "97/100: train loss: 2.4401 ,  valid loss: 1.7073\n",
      "98/100: train loss: 2.4399 ,  valid loss: 1.7057\n",
      "99/100: train loss: 2.4398 ,  valid loss: 1.7045\n",
      "100/100: train loss: 2.4399 ,  valid loss: 1.7063\n"
     ]
    }
   ],
   "source": [
    "model1 = model(X_train,y_train,X_valid,y_valid,epochs=100)\n",
    "model1.train()"
   ]
  },
  {
   "cell_type": "code",
   "execution_count": 10,
   "metadata": {},
   "outputs": [
    {
     "data": {
      "image/png": "[encoded data removed]",
      "text/plain": [
       "<matplotlib.figure.Figure at 0x11db02748>"
      ]
     },
     "metadata": {},
     "output_type": "display_data"
    }
   ],
   "source": [
    "plt.plot(np.arange(len(model1.train_losses)), model1.train_losses, 'b', label = 'train')\n",
    "plt.plot(np.arange(len(model1.valid_losses)), model1.valid_losses, 'r', label = 'valid')\n",
    "plt.legend()\n",
    "plt.show()"
   ]
  },
  {
   "cell_type": "code",
   "execution_count": null,
   "metadata": {
    "collapsed": true
   },
   "outputs": [],
   "source": []
  }
 ],
 "metadata": {
  "kernelspec": {
   "display_name": "Python 3",
   "language": "python",
   "name": "python3"
  },
  "language_info": {
   "codemirror_mode": {
    "name": "ipython",
    "version": 3
   },
   "file_extension": ".py",
   "mimetype": "text/x-python",
   "name": "python",
   "nbconvert_exporter": "python",
   "pygments_lexer": "ipython3",
   "version": "3.6.1"
  }
 },
 "nbformat": 4,
 "nbformat_minor": 2
}
