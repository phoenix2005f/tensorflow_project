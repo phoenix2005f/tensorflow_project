{
 "cells": [
  {
   "cell_type": "code",
   "execution_count": 1,
   "metadata": {},
   "outputs": [
    {
     "name": "stderr",
     "output_type": "stream",
     "text": [
      "/Users/phx/anaconda/lib/python3.6/site-packages/h5py/__init__.py:34: FutureWarning: Conversion of the second argument of issubdtype from `float` to `np.floating` is deprecated. In future, it will be treated as `np.float64 == np.dtype(float).type`.\n",
      "  from ._conv import register_converters as _register_converters\n"
     ]
    }
   ],
   "source": [
    "import tensorflow as tf\n",
    "import numpy as np\n",
    "import gym"
   ]
  },
  {
   "cell_type": "code",
   "execution_count": 2,
   "metadata": {
    "collapsed": true
   },
   "outputs": [],
   "source": [
    "env = gym.make('CartPole-v0')\n",
    "env = env.unwrapped"
   ]
  },
  {
   "cell_type": "code",
   "execution_count": 3,
   "metadata": {
    "collapsed": true
   },
   "outputs": [],
   "source": [
    "# 超參數\n",
    "BATCH_SIZE = 32\n",
    "LR = 0.01                   # learning rate\n",
    "EPSILON = 0.9               # greedy policy\n",
    "GAMMA = 0.9                 # reward discount\n",
    "TARGET_REPLACE_ITER = 100   # target update frequency\n",
    "MEMORY_CAPACITY = 2000\n",
    "N_ACTIONS = env.action_space.n\n",
    "N_STATES = env.observation_space.shape[0]"
   ]
  },
  {
   "cell_type": "code",
   "execution_count": 4,
   "metadata": {
    "collapsed": true
   },
   "outputs": [],
   "source": [
    "def init_weight(shape):\n",
    "    return tf.Variable(tf.random_normal(shape=shape,stddev=0.02))\n",
    "def init_bias(shape):\n",
    "    return tf.Variable(tf.zeros(shape=shape))"
   ]
  },
  {
   "cell_type": "code",
   "execution_count": 53,
   "metadata": {
    "collapsed": true
   },
   "outputs": [],
   "source": [
    "class Net():\n",
    "    def __init__(self,scope_name):\n",
    "        \n",
    "        self.hidden_dim = [50]\n",
    "        with tf.variable_scope(scope_name) as scope:\n",
    "            self.w1 = init_weight([N_STATES,self.hidden_dim[0]])\n",
    "            self.b1 = init_bias([self.hidden_dim[0]])\n",
    "            self.w2 = init_weight([self.hidden_dim[0],N_ACTIONS])\n",
    "            self.b2 = init_bias(N_ACTIONS)\n",
    "            \n",
    "            self.var_list = { v.name[len(scope.name):]:v for v in tf.get_collection(key=tf.GraphKeys.TRAINABLE_VARIABLES,scope=scope.name)}\n",
    "        \n",
    "    \n",
    "    def forward(self,X):\n",
    "        z = tf.nn.relu( tf.add(tf.matmul(X,self.w1) , self.b1))\n",
    "        out = tf.nn.relu( tf.add(tf.matmul(z,self.w2),self.b2) )\n",
    "        \n",
    "        \n",
    "        \n",
    "        return out,self.var_list\n",
    "    \n",
    "    \n",
    "    "
   ]
  },
  {
   "cell_type": "code",
   "execution_count": null,
   "metadata": {
    "collapsed": true
   },
   "outputs": [],
   "source": [
    "class DQN():\n",
    "    \n",
    "    def __init__(self):\n",
    "        self.eval_net = Net(\"q_eval\")\n",
    "        self.target_net = Net(\"q_target\")\n",
    "        self.memory = np.zeros((MEMORY_CAPACITY,N_STATES*2+2))\n",
    "        self.memory_counter = 0\n",
    "        self.learn_step_counter = 0\n",
    "\n",
    "        \n",
    "        ## 定義graph\n",
    "        self.X = tf.placeholder(tf.float32,[None,N_STATES])\n",
    "#         self.q_target = tf.placeholder(tf.float32,[None,N_ACTIONS])\n",
    "#         self.q_eval = tf.placeholder(tf.float32,[None,N_ACTIONS])\n",
    "        self.eval_out , self.q_eval_var_dict = self.eval_net.forward(self.X)\n",
    "        self.target_out , _ = self.target_net.forward(self.X)\n",
    "        \n",
    "        q_eval_var_list = [var for var in tf.get_collection(tf.GraphKeys.GLOBAL_VARIABLES , scope=\"q_eval\")]\n",
    "        \n",
    "        self.copy_op = [tf.assign(main_name, self.target_net[var_name]) for var_name, main_name in self.q_eval_var_dict.items()]\n",
    "        self.copy_target_to_main = tf.group(*copy_op)\n",
    "        \n",
    "        self.loss = tf.reduce_mean(tf.squared_difference(self.target_out, self.eval_out))\n",
    "        self.step = tf.train.AdamOptimizer(learning_rate = LR).minimize(self.loss , var_list = self.q_eval_var_list)\n",
    "        \n",
    "    def choose_action(self , state):\n",
    "        state = tf.expand_dims(tf.convert_to_tensor(states,np.float32),0)\n",
    "        \n",
    "        if np.random.uniform() < EPSILON:\n",
    "            action_value = self.eval_net(state)\n",
    "            action = tf.argmax(action_value,1)\n",
    "            \n",
    "        else:            \n",
    "            action = np.random.choice(N_ACTIONS)\n",
    "            \n",
    "        return action\n",
    "    \n",
    "    def store_transition(self,s,a,r,s_):\n",
    "        transition = np.hstack((s,a,r,s_))\n",
    "        index = MEMORY_CAPACITY % self.memory_counter\n",
    "        \n",
    "        self.memory[index,:] = transition\n",
    "        \n",
    "        self.memory_counter += 1\n",
    "        \n",
    "        \n",
    "    def learn(self):\n",
    "        init = tf.global_variables_initializer()\n",
    "        self.sess = tf.Session()\n",
    "        self.sess.run(init)\n",
    "        \n",
    "        # 同步\n",
    "        if self.learn_step_counter % TARGET_REPLACE_ITER == 0:\n",
    "            self.sess.run(copy_target_to_main)\n",
    "        self.learn_step_counter+=1\n",
    "        \n",
    "        # 從memory中取隨機取batch個entry去訓練\n",
    "        sample_index = np.random.choice(MEMORY_CAPACITY, BATCH_SIZE)\n",
    "        b_memory = self.memory[sample_index, :]\n",
    "        b_s = tf.convert_to_tensor(b_memory[:, :N_STATES],dtype=tf.float32)\n",
    "        b_a = tf.convert_to_tensor(b_memory[:, N_STATES:N_STATES+1].astype(int),dtype=tf.int64)\n",
    "        b_r = tf.convert_to_tensor(b_memory[:, N_STATES+1:N_STATES+2],dtype=tf.float32)\n",
    "        b_s_ = tf.convert_to_tensor(b_memory[:, -N_STATES:],dtype=tf.float32)\n",
    "        \n",
    "        \n",
    "        loss,_ = sess.run([self.loss,self.step],feed_dict={self.X:b_s})\n"
   ]
  },
  {
   "cell_type": "code",
   "execution_count": 49,
   "metadata": {
    "collapsed": true
   },
   "outputs": [],
   "source": [
    "q_net1 = Net()"
   ]
  },
  {
   "cell_type": "code",
   "execution_count": 44,
   "metadata": {
    "collapsed": true
   },
   "outputs": [],
   "source": [
    "tf.reset_default_graph()"
   ]
  },
  {
   "cell_type": "code",
   "execution_count": 60,
   "metadata": {},
   "outputs": [
    {
     "name": "stdout",
     "output_type": "stream",
     "text": [
      "eight/Variable:0\n",
      "<tf.Variable 'hidden_weight/Variable:0' shape=(4, 50) dtype=float32_ref>\n",
      "eight/Variable_1:0\n",
      "<tf.Variable 'hidden_weight/Variable_1:0' shape=(50,) dtype=float32_ref>\n",
      "eight/Variable_2:0\n",
      "<tf.Variable 'hidden_weight/Variable_2:0' shape=(50, 2) dtype=float32_ref>\n",
      "eight/Variable_3:0\n",
      "<tf.Variable 'hidden_weight/Variable_3:0' shape=(2,) dtype=float32_ref>\n",
      "eight_1/Variable:0\n",
      "<tf.Variable 'hidden_weight_1/Variable:0' shape=(4, 50) dtype=float32_ref>\n",
      "eight_1/Variable_1:0\n",
      "<tf.Variable 'hidden_weight_1/Variable_1:0' shape=(50,) dtype=float32_ref>\n",
      "eight_1/Variable_2:0\n",
      "<tf.Variable 'hidden_weight_1/Variable_2:0' shape=(50, 2) dtype=float32_ref>\n",
      "eight_1/Variable_3:0\n",
      "<tf.Variable 'hidden_weight_1/Variable_3:0' shape=(2,) dtype=float32_ref>\n"
     ]
    }
   ],
   "source": [
    "for v in tf.get_collection(key=tf.GraphKeys.TRAINABLE_VARIABLES):\n",
    "    print(v.name[8:])\n",
    "    print(v)"
   ]
  },
  {
   "cell_type": "code",
   "execution_count": 52,
   "metadata": {},
   "outputs": [
    {
     "data": {
      "text/plain": [
       "[<tf.Variable 'hidden_weight/Variable:0' shape=(4, 50) dtype=float32_ref>,\n",
       " <tf.Variable 'hidden_weight/Variable_1:0' shape=(50,) dtype=float32_ref>,\n",
       " <tf.Variable 'hidden_weight/Variable_2:0' shape=(50, 2) dtype=float32_ref>,\n",
       " <tf.Variable 'hidden_weight/Variable_3:0' shape=(2,) dtype=float32_ref>]"
      ]
     },
     "execution_count": 52,
     "metadata": {},
     "output_type": "execute_result"
    }
   ],
   "source": [
    "tf.get_collection(key=tf.GraphKeys.TRAINABLE_VARIABLES,scope=\"hidden_weight/Variable\")"
   ]
  },
  {
   "cell_type": "raw",
   "metadata": {},
   "source": [
    "dqn = DQN()"
   ]
  },
  {
   "cell_type": "code",
   "execution_count": 6,
   "metadata": {
    "collapsed": true
   },
   "outputs": [],
   "source": [
    "n_epochs = 200"
   ]
  },
  {
   "cell_type": "code",
   "execution_count": null,
   "metadata": {
    "collapsed": true
   },
   "outputs": [],
   "source": [
    "env = gym.make('CartPole-v0')\n",
    "env = env.unwrapped\n",
    "\n",
    "for i in range(n_epochs):\n",
    "    s = env.reset()\n",
    "    \n",
    "    while True:\n",
    "        action = dqn.choose_action(s)\n",
    "        \n",
    "        "
   ]
  },
  {
   "cell_type": "code",
   "execution_count": null,
   "metadata": {
    "collapsed": true
   },
   "outputs": [],
   "source": []
  }
 ],
 "metadata": {
  "kernelspec": {
   "display_name": "Python 3",
   "language": "python",
   "name": "python3"
  },
  "language_info": {
   "codemirror_mode": {
    "name": "ipython",
    "version": 3
   },
   "file_extension": ".py",
   "mimetype": "text/x-python",
   "name": "python",
   "nbconvert_exporter": "python",
   "pygments_lexer": "ipython3",
   "version": "3.6.1"
  }
 },
 "nbformat": 4,
 "nbformat_minor": 2
}
